{
  "cells": [
    {
      "cell_type": "markdown",
      "metadata": {
        "id": "jVx6gFuBAzqo"
      },
      "source": [
        "![image info](https://raw.githubusercontent.com/albahnsen/MIAD_ML_and_NLP/main/images/banner_1.png)"
      ]
    },
    {
      "cell_type": "markdown",
      "metadata": {
        "id": "mkMJMhduAzqq"
      },
      "source": [
        "# Taller: Tokenización de textos  \n",
        "\n",
        "En este taller podrán poner en práctica sus conocimientos sobre preprocesamiento de texto (tokenización). El taller está constituido por 5 puntos, en los cuales deberan seguir las intrucciones de cada numeral para su desarrollo."
      ]
    },
    {
      "cell_type": "markdown",
      "metadata": {
        "id": "LyShN7-kAzqr"
      },
      "source": [
        "## Datos detección de toxicidad en comentarios\n",
        "\n",
        "En este taller se usará el conjunto de datos de detección de toxicidad en comentarios de la base de datos de Kaggle. Cada observación es un comentario que tiene como variable objetivo (target) la probabilidad de ser un comentario tóxico. El objetivo es predecir la toxicidad de cada comentario. Para más detalles pueden visitar el siguiente enlace: [datos](https://www.kaggle.com/c/jigsaw-unintended-bias-in-toxicity-classification/data)."
      ]
    },
    {
      "cell_type": "code",
      "execution_count": 1,
      "metadata": {
        "id": "Z0vvop5UAzqr"
      },
      "outputs": [],
      "source": [
        "import warnings\n",
        "warnings.filterwarnings('ignore')"
      ]
    },
    {
      "cell_type": "code",
      "execution_count": 2,
      "metadata": {
        "id": "ZdbD9K47Azqt"
      },
      "outputs": [],
      "source": [
        "# Importación librerías\n",
        "import pandas as pd\n",
        "import numpy as np\n",
        "import scipy as sp\n",
        "from sklearn.model_selection import train_test_split, cross_val_score\n",
        "from sklearn.feature_extraction.text import CountVectorizer, TfidfVectorizer\n",
        "from sklearn import metrics\n",
        "from sklearn.linear_model import Ridge\n",
        "from sklearn.metrics import mean_squared_error\n",
        "import zipfile\n",
        "import os\n",
        "from sklearn.feature_extraction.text import CountVectorizer\n",
        "from sklearn.metrics import mean_squared_error, r2_score\n",
        "from xgboost import XGBRegressor\n",
        "%matplotlib inline"
      ]
    },
    {
      "cell_type": "code",
      "execution_count": 3,
      "metadata": {
        "colab": {
          "base_uri": "https://localhost:8080/",
          "height": 206
        },
        "id": "RUIf9TA8Azqt",
        "outputId": "5cfae188-2e0e-4046-c664-53ebd4e65677"
      },
      "outputs": [
        {
          "output_type": "execute_result",
          "data": {
            "text/plain": [
              "        id                                       comment_text  target\n",
              "0  6101457  What are you talking about? What group do Pete...     0.0\n",
              "1  5342103   NO!, Let him, we need a Conservative government.     0.0\n",
              "2   743361  Perhaps he took the \"power out of the Cardinal...     0.2\n",
              "3   551008  As always, yours is dripping with sarcasm, whi...     0.0\n",
              "4   865998  The dirty little secret is that the price rang...     0.3"
            ],
            "text/html": [
              "\n",
              "  <div id=\"df-a1c2b8a2-cddf-4d8c-a3d3-7a37b074f2bb\" class=\"colab-df-container\">\n",
              "    <div>\n",
              "<style scoped>\n",
              "    .dataframe tbody tr th:only-of-type {\n",
              "        vertical-align: middle;\n",
              "    }\n",
              "\n",
              "    .dataframe tbody tr th {\n",
              "        vertical-align: top;\n",
              "    }\n",
              "\n",
              "    .dataframe thead th {\n",
              "        text-align: right;\n",
              "    }\n",
              "</style>\n",
              "<table border=\"1\" class=\"dataframe\">\n",
              "  <thead>\n",
              "    <tr style=\"text-align: right;\">\n",
              "      <th></th>\n",
              "      <th>id</th>\n",
              "      <th>comment_text</th>\n",
              "      <th>target</th>\n",
              "    </tr>\n",
              "  </thead>\n",
              "  <tbody>\n",
              "    <tr>\n",
              "      <th>0</th>\n",
              "      <td>6101457</td>\n",
              "      <td>What are you talking about? What group do Pete...</td>\n",
              "      <td>0.0</td>\n",
              "    </tr>\n",
              "    <tr>\n",
              "      <th>1</th>\n",
              "      <td>5342103</td>\n",
              "      <td>NO!, Let him, we need a Conservative government.</td>\n",
              "      <td>0.0</td>\n",
              "    </tr>\n",
              "    <tr>\n",
              "      <th>2</th>\n",
              "      <td>743361</td>\n",
              "      <td>Perhaps he took the \"power out of the Cardinal...</td>\n",
              "      <td>0.2</td>\n",
              "    </tr>\n",
              "    <tr>\n",
              "      <th>3</th>\n",
              "      <td>551008</td>\n",
              "      <td>As always, yours is dripping with sarcasm, whi...</td>\n",
              "      <td>0.0</td>\n",
              "    </tr>\n",
              "    <tr>\n",
              "      <th>4</th>\n",
              "      <td>865998</td>\n",
              "      <td>The dirty little secret is that the price rang...</td>\n",
              "      <td>0.3</td>\n",
              "    </tr>\n",
              "  </tbody>\n",
              "</table>\n",
              "</div>\n",
              "    <div class=\"colab-df-buttons\">\n",
              "\n",
              "  <div class=\"colab-df-container\">\n",
              "    <button class=\"colab-df-convert\" onclick=\"convertToInteractive('df-a1c2b8a2-cddf-4d8c-a3d3-7a37b074f2bb')\"\n",
              "            title=\"Convert this dataframe to an interactive table.\"\n",
              "            style=\"display:none;\">\n",
              "\n",
              "  <svg xmlns=\"http://www.w3.org/2000/svg\" height=\"24px\" viewBox=\"0 -960 960 960\">\n",
              "    <path d=\"M120-120v-720h720v720H120Zm60-500h600v-160H180v160Zm220 220h160v-160H400v160Zm0 220h160v-160H400v160ZM180-400h160v-160H180v160Zm440 0h160v-160H620v160ZM180-180h160v-160H180v160Zm440 0h160v-160H620v160Z\"/>\n",
              "  </svg>\n",
              "    </button>\n",
              "\n",
              "  <style>\n",
              "    .colab-df-container {\n",
              "      display:flex;\n",
              "      gap: 12px;\n",
              "    }\n",
              "\n",
              "    .colab-df-convert {\n",
              "      background-color: #E8F0FE;\n",
              "      border: none;\n",
              "      border-radius: 50%;\n",
              "      cursor: pointer;\n",
              "      display: none;\n",
              "      fill: #1967D2;\n",
              "      height: 32px;\n",
              "      padding: 0 0 0 0;\n",
              "      width: 32px;\n",
              "    }\n",
              "\n",
              "    .colab-df-convert:hover {\n",
              "      background-color: #E2EBFA;\n",
              "      box-shadow: 0px 1px 2px rgba(60, 64, 67, 0.3), 0px 1px 3px 1px rgba(60, 64, 67, 0.15);\n",
              "      fill: #174EA6;\n",
              "    }\n",
              "\n",
              "    .colab-df-buttons div {\n",
              "      margin-bottom: 4px;\n",
              "    }\n",
              "\n",
              "    [theme=dark] .colab-df-convert {\n",
              "      background-color: #3B4455;\n",
              "      fill: #D2E3FC;\n",
              "    }\n",
              "\n",
              "    [theme=dark] .colab-df-convert:hover {\n",
              "      background-color: #434B5C;\n",
              "      box-shadow: 0px 1px 3px 1px rgba(0, 0, 0, 0.15);\n",
              "      filter: drop-shadow(0px 1px 2px rgba(0, 0, 0, 0.3));\n",
              "      fill: #FFFFFF;\n",
              "    }\n",
              "  </style>\n",
              "\n",
              "    <script>\n",
              "      const buttonEl =\n",
              "        document.querySelector('#df-a1c2b8a2-cddf-4d8c-a3d3-7a37b074f2bb button.colab-df-convert');\n",
              "      buttonEl.style.display =\n",
              "        google.colab.kernel.accessAllowed ? 'block' : 'none';\n",
              "\n",
              "      async function convertToInteractive(key) {\n",
              "        const element = document.querySelector('#df-a1c2b8a2-cddf-4d8c-a3d3-7a37b074f2bb');\n",
              "        const dataTable =\n",
              "          await google.colab.kernel.invokeFunction('convertToInteractive',\n",
              "                                                    [key], {});\n",
              "        if (!dataTable) return;\n",
              "\n",
              "        const docLinkHtml = 'Like what you see? Visit the ' +\n",
              "          '<a target=\"_blank\" href=https://colab.research.google.com/notebooks/data_table.ipynb>data table notebook</a>'\n",
              "          + ' to learn more about interactive tables.';\n",
              "        element.innerHTML = '';\n",
              "        dataTable['output_type'] = 'display_data';\n",
              "        await google.colab.output.renderOutput(dataTable, element);\n",
              "        const docLink = document.createElement('div');\n",
              "        docLink.innerHTML = docLinkHtml;\n",
              "        element.appendChild(docLink);\n",
              "      }\n",
              "    </script>\n",
              "  </div>\n",
              "\n",
              "\n",
              "<div id=\"df-a1aa100b-9bc3-4167-b824-3415fa0c6f14\">\n",
              "  <button class=\"colab-df-quickchart\" onclick=\"quickchart('df-a1aa100b-9bc3-4167-b824-3415fa0c6f14')\"\n",
              "            title=\"Suggest charts\"\n",
              "            style=\"display:none;\">\n",
              "\n",
              "<svg xmlns=\"http://www.w3.org/2000/svg\" height=\"24px\"viewBox=\"0 0 24 24\"\n",
              "     width=\"24px\">\n",
              "    <g>\n",
              "        <path d=\"M19 3H5c-1.1 0-2 .9-2 2v14c0 1.1.9 2 2 2h14c1.1 0 2-.9 2-2V5c0-1.1-.9-2-2-2zM9 17H7v-7h2v7zm4 0h-2V7h2v10zm4 0h-2v-4h2v4z\"/>\n",
              "    </g>\n",
              "</svg>\n",
              "  </button>\n",
              "\n",
              "<style>\n",
              "  .colab-df-quickchart {\n",
              "      --bg-color: #E8F0FE;\n",
              "      --fill-color: #1967D2;\n",
              "      --hover-bg-color: #E2EBFA;\n",
              "      --hover-fill-color: #174EA6;\n",
              "      --disabled-fill-color: #AAA;\n",
              "      --disabled-bg-color: #DDD;\n",
              "  }\n",
              "\n",
              "  [theme=dark] .colab-df-quickchart {\n",
              "      --bg-color: #3B4455;\n",
              "      --fill-color: #D2E3FC;\n",
              "      --hover-bg-color: #434B5C;\n",
              "      --hover-fill-color: #FFFFFF;\n",
              "      --disabled-bg-color: #3B4455;\n",
              "      --disabled-fill-color: #666;\n",
              "  }\n",
              "\n",
              "  .colab-df-quickchart {\n",
              "    background-color: var(--bg-color);\n",
              "    border: none;\n",
              "    border-radius: 50%;\n",
              "    cursor: pointer;\n",
              "    display: none;\n",
              "    fill: var(--fill-color);\n",
              "    height: 32px;\n",
              "    padding: 0;\n",
              "    width: 32px;\n",
              "  }\n",
              "\n",
              "  .colab-df-quickchart:hover {\n",
              "    background-color: var(--hover-bg-color);\n",
              "    box-shadow: 0 1px 2px rgba(60, 64, 67, 0.3), 0 1px 3px 1px rgba(60, 64, 67, 0.15);\n",
              "    fill: var(--button-hover-fill-color);\n",
              "  }\n",
              "\n",
              "  .colab-df-quickchart-complete:disabled,\n",
              "  .colab-df-quickchart-complete:disabled:hover {\n",
              "    background-color: var(--disabled-bg-color);\n",
              "    fill: var(--disabled-fill-color);\n",
              "    box-shadow: none;\n",
              "  }\n",
              "\n",
              "  .colab-df-spinner {\n",
              "    border: 2px solid var(--fill-color);\n",
              "    border-color: transparent;\n",
              "    border-bottom-color: var(--fill-color);\n",
              "    animation:\n",
              "      spin 1s steps(1) infinite;\n",
              "  }\n",
              "\n",
              "  @keyframes spin {\n",
              "    0% {\n",
              "      border-color: transparent;\n",
              "      border-bottom-color: var(--fill-color);\n",
              "      border-left-color: var(--fill-color);\n",
              "    }\n",
              "    20% {\n",
              "      border-color: transparent;\n",
              "      border-left-color: var(--fill-color);\n",
              "      border-top-color: var(--fill-color);\n",
              "    }\n",
              "    30% {\n",
              "      border-color: transparent;\n",
              "      border-left-color: var(--fill-color);\n",
              "      border-top-color: var(--fill-color);\n",
              "      border-right-color: var(--fill-color);\n",
              "    }\n",
              "    40% {\n",
              "      border-color: transparent;\n",
              "      border-right-color: var(--fill-color);\n",
              "      border-top-color: var(--fill-color);\n",
              "    }\n",
              "    60% {\n",
              "      border-color: transparent;\n",
              "      border-right-color: var(--fill-color);\n",
              "    }\n",
              "    80% {\n",
              "      border-color: transparent;\n",
              "      border-right-color: var(--fill-color);\n",
              "      border-bottom-color: var(--fill-color);\n",
              "    }\n",
              "    90% {\n",
              "      border-color: transparent;\n",
              "      border-bottom-color: var(--fill-color);\n",
              "    }\n",
              "  }\n",
              "</style>\n",
              "\n",
              "  <script>\n",
              "    async function quickchart(key) {\n",
              "      const quickchartButtonEl =\n",
              "        document.querySelector('#' + key + ' button');\n",
              "      quickchartButtonEl.disabled = true;  // To prevent multiple clicks.\n",
              "      quickchartButtonEl.classList.add('colab-df-spinner');\n",
              "      try {\n",
              "        const charts = await google.colab.kernel.invokeFunction(\n",
              "            'suggestCharts', [key], {});\n",
              "      } catch (error) {\n",
              "        console.error('Error during call to suggestCharts:', error);\n",
              "      }\n",
              "      quickchartButtonEl.classList.remove('colab-df-spinner');\n",
              "      quickchartButtonEl.classList.add('colab-df-quickchart-complete');\n",
              "    }\n",
              "    (() => {\n",
              "      let quickchartButtonEl =\n",
              "        document.querySelector('#df-a1aa100b-9bc3-4167-b824-3415fa0c6f14 button');\n",
              "      quickchartButtonEl.style.display =\n",
              "        google.colab.kernel.accessAllowed ? 'block' : 'none';\n",
              "    })();\n",
              "  </script>\n",
              "</div>\n",
              "\n",
              "    </div>\n",
              "  </div>\n"
            ],
            "application/vnd.google.colaboratory.intrinsic+json": {
              "type": "dataframe",
              "variable_name": "df"
            }
          },
          "metadata": {},
          "execution_count": 3
        }
      ],
      "source": [
        "# Carga de datos de archivos .csv\n",
        "df = pd.read_csv('https://raw.githubusercontent.com/albahnsen/MIAD_ML_and_NLP/main/datasets/Toxicity.zip')\n",
        "df = df[['id','comment_text', 'target']]\n",
        "df.head()"
      ]
    },
    {
      "cell_type": "code",
      "execution_count": null,
      "metadata": {
        "colab": {
          "base_uri": "https://localhost:8080/"
        },
        "id": "wLyWS553Azqu",
        "outputId": "331e53f2-9b99-4862-99bc-93f96908441b"
      },
      "outputs": [
        {
          "output_type": "execute_result",
          "data": {
            "text/plain": [
              "(541462, 3)"
            ]
          },
          "metadata": {},
          "execution_count": 6
        }
      ],
      "source": [
        "df.shape"
      ]
    },
    {
      "cell_type": "code",
      "execution_count": null,
      "metadata": {
        "colab": {
          "base_uri": "https://localhost:8080/",
          "height": 447
        },
        "id": "_NkF9KFAAzqv",
        "outputId": "763b8531-2e64-46c8-b420-3900050d98c7"
      },
      "outputs": [
        {
          "output_type": "execute_result",
          "data": {
            "text/plain": [
              "<Axes: >"
            ]
          },
          "metadata": {},
          "execution_count": 7
        },
        {
          "output_type": "display_data",
          "data": {
            "text/plain": [
              "<Figure size 640x480 with 1 Axes>"
            ],
            "image/png": "[encoded data removed]"
          },
          "metadata": {}
        }
      ],
      "source": [
        "# Impresión histograma de variable de interés (y)\n",
        "df.target.hist()"
      ]
    },
    {
      "cell_type": "code",
      "execution_count": 4,
      "metadata": {
        "id": "tpcxiXrlAzqv",
        "outputId": "42957822-fac5-4eba-a83f-aa46396588e7",
        "colab": {
          "base_uri": "https://localhost:8080/"
        }
      },
      "outputs": [
        {
          "output_type": "execute_result",
          "data": {
            "text/plain": [
              "count    541462.000000\n",
              "mean          0.102991\n",
              "std           0.196979\n",
              "min           0.000000\n",
              "25%           0.000000\n",
              "50%           0.000000\n",
              "75%           0.166667\n",
              "max           1.000000\n",
              "Name: target, dtype: float64"
            ]
          },
          "metadata": {},
          "execution_count": 4
        }
      ],
      "source": [
        "# Separación de variable de interés (y)\n",
        "y = df.target\n",
        "y.describe()"
      ]
    },
    {
      "cell_type": "code",
      "execution_count": 5,
      "metadata": {
        "id": "Wi-yJYo9Azqw"
      },
      "outputs": [],
      "source": [
        "# Separación de variables predictoras (X), solo se considera el texto de la noticia\n",
        "X = df.comment_text"
      ]
    },
    {
      "cell_type": "code",
      "execution_count": 6,
      "metadata": {
        "id": "h3bP65mnAzqw"
      },
      "outputs": [],
      "source": [
        "# Separación de datos en set de entrenamiento y test\n",
        "X_train, X_test, y_train, y_test = train_test_split(X, y, test_size=0.33, random_state=42)"
      ]
    },
    {
      "cell_type": "markdown",
      "metadata": {
        "id": "g7jkEP-AAzqx"
      },
      "source": [
        "## Punto 1 - Tokenización con CountVectorizer\n",
        "\n",
        "En la celda 1 creen y entrenen el modelo de regresión de su preferencia, para que prediga la probabilidad de que un comentario sea tóxico, usando los set de entrenamiento y test definidos anteriormente. Usen la función **CountVectorizer** para preprocesar los comentarios y presenten el desempeño del modelo con la métrica del MSE.\n",
        "\n",
        "Recuerden que el preprocesamiento que se haga sobre los datos de entrenamiento  (*.fit_transform()*) deben ser aplicado al set de test (*.transform()*)."
      ]
    },
    {
      "cell_type": "code",
      "execution_count": 7,
      "metadata": {
        "id": "K2zIIiPDAzqx",
        "colab": {
          "base_uri": "https://localhost:8080/"
        },
        "outputId": "a6a09494-994d-49cb-a7fb-5bfd1e8ae5d4"
      },
      "outputs": [
        {
          "output_type": "stream",
          "name": "stdout",
          "text": [
            "Error cuadrático medio (MSE) del punto 1: 0.020689791583810714\n",
            "Coeficiente de determinación (R^2) del punto 1: 0.4699489081371663\n"
          ]
        }
      ],
      "source": [
        "# Celda 1\n",
        "vect_1 = CountVectorizer()\n",
        "X_train_dtm_1 = vect_1.fit_transform(X_train)\n",
        "X_test_dtm_1 = vect_1.transform(X_test)\n",
        "\n",
        "### Modelo\n",
        "model = XGBRegressor()\n",
        "model.fit(X_train_dtm_1, y_train)\n",
        "\n",
        "### Predicción\n",
        "y_pred=model.predict(X_test_dtm_1)\n",
        "\n",
        "### MSE y R cuadrado\n",
        "mse_1 = mean_squared_error(y_test, y_pred)\n",
        "r2_1 = r2_score(y_test, y_pred)\n",
        "\n",
        "print(\"Error cuadrático medio (MSE) del punto 1:\", mse_1)\n",
        "print(\"Coeficiente de determinación (R^2) del punto 1:\", r2_1)"
      ]
    },
    {
      "cell_type": "markdown",
      "source": [
        "El modelo obtiene un MSE de 0.0207 y un $R^2$ de 46.699%.  Estos resultados indican que el modelo tiene un MSE relativamente bajo, lo que sugiere que las predicciones del modelo están bastante cerca de los valores reales en promedio. Sin embargo, el $R^2$ relativamente bajo indica que el modelo no explica toda la variabilidad en los datos, lo que sugiere que podría haber espacio para mejoras en el modelo."
      ],
      "metadata": {
        "id": "qrb8VhBuRmKj"
      }
    },
    {
      "cell_type": "markdown",
      "metadata": {
        "id": "4Swux8JhAzqy"
      },
      "source": [
        "## Punto 2 - Tokenización con CountVectorizer y trigramas\n",
        "\n",
        "En la celda 2 creen y entrenen el mismo modelo de regresión del punto anterior (es decir si usaron un RandomForestRegresor usen nuevamente ese regresor), para que prediga la probabilidad de que un comentario sea tóxico, usando los set de entrenamiento y test definidos anteriormente. Usen la función CountVectorizer **considerando trigramas** para preprocesar los comentarios y presenten el desempeño del modelo con la métrica del MSE.\n",
        "\n",
        "Recuerden que el preprocesamiento que se haga sobre los datos de entrenamiento  (*.fit_transform()*) deben ser aplicado al set de test (*.transform()*)."
      ]
    },
    {
      "cell_type": "code",
      "source": [
        "import pandas as pd\n",
        "from sklearn.feature_extraction.text import CountVectorizer\n",
        "from xgboost import XGBRegressor\n",
        "from sklearn.metrics import mean_squared_error\n",
        "from sklearn.model_selection import train_test_split\n",
        "df_sample = df.sample(frac=0.1, random_state=42)\n",
        "\n",
        "\n",
        "\n",
        "# División de los datos en entrenamiento y prueba\n",
        "X_train, X_test, y_train, y_test = train_test_split(X, y, test_size=0.33, random_state=42)\n",
        "\n",
        "# Inicialización de CountVectorizer con trigramas\n",
        "vect_2 = CountVectorizer(ngram_range=(1, 3))\n",
        "\n",
        "# Transformar los conjuntos de entrenamiento y prueba\n",
        "X_train_dtm_2 = vect_2.fit_transform(X_train)\n",
        "X_test_dtm_2 = vect_2.transform(X_test)\n",
        "\n",
        "# Inicialización y entrenamiento del modelo XGBRegressor\n",
        "model_2 = XGBRegressor()\n",
        "model_2.fit(X_train_dtm_2, y_train)\n",
        "\n",
        "# Predicción\n",
        "y_pred_2 = model_2.predict(X_test_dtm_2)\n",
        "\n",
        "# Cálculo de MSE\n",
        "mse_2 = mean_squared_error(y_test, y_pred_2)\n",
        "r2_2 = r2_score(y_test, y_pred_2)\n",
        "print(f\"Error cuadrático medio (MSE) : {mse_2}\")\n",
        "print(f\"Coeficiente de determinación (R^2) : {r2_2}\")\n"
      ],
      "metadata": {
        "colab": {
          "base_uri": "https://localhost:8080/"
        },
        "id": "-S7noez92hkW",
        "outputId": "22e79b47-d0a8-441c-8d87-ebebe10755e6"
      },
      "execution_count": null,
      "outputs": [
        {
          "output_type": "stream",
          "name": "stdout",
          "text": [
            "Error cuadrático medio (MSE) : 0.022152865241148754\n",
            "Coeficiente de determinación (R^2) : 0.4398940958600315\n"
          ]
        }
      ]
    },
    {
      "cell_type": "markdown",
      "source": [
        "Con un valor aproximadamente de 0.4398, el R² nos indica qué tan bien las variables independientes predicen la variable dependiente. En este caso, el modelo explica alrededor del 44% de la variabilidad, lo que sugiere un ajuste moderado.\n",
        "\n",
        "El MSE ha aumentado ligeramente al utilizar trigramas comparado con la configuración anterior, lo que podría indicar un ajuste menos preciso al conjunto de datos. Esto podría deberse a la mayor complejidad del modelo al incluir trigramas, lo que puede llevar a sobreajuste o simplemente a una representación menos eficaz para este conjunto particular de datos."
      ],
      "metadata": {
        "id": "AxIU_DsZAVbk"
      }
    },
    {
      "cell_type": "markdown",
      "metadata": {
        "id": "FEjX5MkmAzqz"
      },
      "source": [
        "## Punto 3 - TfidfVectorizer\n",
        "\n",
        "Investigen sobre la función TfidfVectorizer. En la celda de texto 3, expliquen en qué consiste esta técnica de tokenización (describanla y expliquen su funcionamiento) y cúales son las ventajas o deventajas de su uso al compararlo con la función CountVectorizer."
      ]
    },
    {
      "cell_type": "code",
      "execution_count": null,
      "metadata": {
        "id": "hEmgRpEfAzqz"
      },
      "outputs": [],
      "source": [
        "#Celda 3\n"
      ]
    },
    {
      "cell_type": "markdown",
      "source": [
        "**TfidfVectorizer** es una técnica de vectorización de texto que se utiliza comúnmente en el procesamiento de lenguaje natural (NLP) para convertir una colección de documentos de texto en una representación numérica.\n",
        "\n",
        "1. **Frecuencia de términos (TF):** TF mide la frecuencia de un término en un texto. Cuanto más frecuente sea un término en el texto, mayor será su valor TF para ese texto.\n",
        "\n",
        "$$TF(t,d)=\\frac{numero~de~veces~que~t~aparece~en~d}{total~de~terminos~en~d}$$\n",
        "\n",
        "2. **Frecuencia inversa de documento (IDF):** IDF mide la importancia de un término en el conjunto de textos. Los términos que aparecen en muchos textos tendrán un IDF más bajo, mientras que los términos que aparecen en pocos textos tendrán un IDF más alto. Esto se calcula tomando el logaritmo del inverso de la frecuencia del documento que contiene el término y luego agregando 1 para evitar la división por cero.\n",
        "\n",
        "$$IDF(t)=log \\frac{1+n}{1+df(t)}+1 $$\n",
        "\n",
        "3. **TF-IDF**: La ponderación TF-IDF combina TF y IDF para calcular un valor ponderado para cada término en cada documento. Esto se hace multiplicando la frecuencia del término (TF) por la frecuencia inversa del documento (IDF).\n",
        "\n",
        "$$TF - IDF(t,d)= TF(t,d)*IDF(t) $$\n",
        "\n",
        "**Ventajas de usar TfidfVectorizer**\n",
        "\n",
        "* TfidfVectorizer tiene en cuenta no solo la frecuencia de los términos en un documento, sino también la importancia de esos términos en el conjunto de documentos. Esto puede ayudar a dar más peso a los términos que son únicos o raros en el corpus.\n",
        "\n",
        "* Los términos que aparecen en muchos documentos suelen ser palabras comunes que pueden no ser muy informativas, reduciendi el peso de estos términos comunes asignándoles un valor IDF más bajo.\n",
        "\n",
        "* Esta metodología también normaliza las frecuencias de términos por la longitud del documento, lo que puede ayudar a manejar la variación en la longitud de los documentos.\n",
        "\n",
        "**Algunas desventajas potenciales:**\n",
        "\n",
        "\n",
        "* Los valores TF-IDF no son tan intuitivos como simplemente contar la frecuencia de términos, generando una reducción en la interpretación para algunos casos.\n",
        "\n",
        "* El cálculo de los valores TF-IDF puede ser más costoso computacionalmente en comparación con CountVectorizer, especialmente para corpus grandes."
      ],
      "metadata": {
        "id": "jylDF6G4S2rX"
      }
    },
    {
      "cell_type": "markdown",
      "metadata": {
        "id": "mqR1SIS2Azqz"
      },
      "source": [
        "## Punto 4 - Tokenización con TfidfVectorizer\n",
        "\n",
        "En la celda 4 creen y entrenen el mismo modelo de regresión del primer punto, para que prediga la probabilidad de que un comentario sea tóxico, usando los set de entrenamiento y test definidos anteriormente. Procesen los comentarios con la función **TfidfVectorizer** y presenten el desempeño del modelo con la métrica del MSE.\n",
        "\n",
        "Recuerden que el preprocesamiento que se haga sobre los datos de entrenamiento  (*.fit_transform()*) deben ser aplicado al set de test (*.transform()*)."
      ]
    },
    {
      "cell_type": "code",
      "execution_count": 8,
      "metadata": {
        "id": "CVrA4choAzqz",
        "colab": {
          "base_uri": "https://localhost:8080/"
        },
        "outputId": "ab301fc1-3921-407b-d992-1863cc3c2ca3"
      },
      "outputs": [
        {
          "output_type": "execute_result",
          "data": {
            "text/plain": [
              "(0.020335956149285114, 0.47901380652680536)"
            ]
          },
          "metadata": {},
          "execution_count": 8
        }
      ],
      "source": [
        "from sklearn.linear_model import LogisticRegression\n",
        "from sklearn.feature_extraction.text import TfidfVectorizer\n",
        "# Inicializar TfidfVectorizer\n",
        "tfidf_vect = TfidfVectorizer()\n",
        "\n",
        "# Transformar los conjuntos de entrenamiento y prueba\n",
        "X_train_tfidf = tfidf_vect.fit_transform(X_train)\n",
        "X_test_tfidf = tfidf_vect.transform(X_test)\n",
        "\n",
        "# Inicializar y entrenar el modelo XGBRegressor\n",
        "model = XGBRegressor()\n",
        "model.fit(X_train_tfidf, y_train)\n",
        "\n",
        "\n",
        "y_pred = model.predict(X_test_tfidf)\n",
        "\n",
        "# Calcular MSE y R cuadrado\n",
        "mse = mean_squared_error(y_test, y_pred)\n",
        "r2 = r2_score(y_test, y_pred)\n",
        "\n",
        "mse, r2"
      ]
    },
    {
      "cell_type": "markdown",
      "source": [
        "El MSE obtenido es aproximadamente 0.02, lo que indica el promedio de los cuadrados de las diferencias entre los valores observados reales (toxicidad real de los comentarios) y las predicciones realizadas por el modelo. Un MSE de 0.02 puede considerarse razonablemente bajO.\n",
        "\n",
        "El coeficiente R cuadrado es aproximadamente 0.479, lo que representa la proporción de la variación de la variable dependiente que es predecible a partir de las variables independientes, es decir, alrededor del 48% de la variabilidad de la toxicidad puede ser explicada por el modelo."
      ],
      "metadata": {
        "id": "uL1VoiCKz-kt"
      }
    },
    {
      "cell_type": "markdown",
      "metadata": {
        "id": "Otb1vNvrAzq0"
      },
      "source": [
        "## Punto 5 - Comparación y análisis de resultados\n",
        "\n",
        "En la celda 5 comparen los resultados obtenidos de los diferentes modelos y comenten cómo el preprocesamiento de texto afecta el desempeño."
      ]
    },
    {
      "cell_type": "code",
      "execution_count": null,
      "metadata": {
        "id": "bI7d7Xu1Azq0",
        "colab": {
          "base_uri": "https://localhost:8080/",
          "height": 507
        },
        "outputId": "cd40d4b6-67c7-4b8b-ff2c-fc620f8dee2f"
      },
      "outputs": [
        {
          "output_type": "display_data",
          "data": {
            "text/plain": [
              "<Figure size 1400x500 with 2 Axes>"
            ],
            "image/png": "[encoded data removed]"
          },
          "metadata": {}
        }
      ],
      "source": [
        "# Celda 5\n",
        "\n",
        "import matplotlib.pyplot as plt\n",
        "\n",
        "mse_scores = [mse_1, mse_2, mse]\n",
        "r2_scores = [r2_1, r2_2, r2]\n",
        "\n",
        "model_labels = ['CountVectorizer', 'CountVect + Trigrams', 'TfidfVectorizer']\n",
        "\n",
        "# Creación de las gráficas\n",
        "fig, ax = plt.subplots(1, 2, figsize=(14, 5))\n",
        "\n",
        "# Gráfica para MSE\n",
        "ax[0].bar(model_labels, mse_scores, color=['blue', 'green', 'red'])\n",
        "ax[0].set_title('Comparación del MSE de los Modelos')\n",
        "ax[0].set_ylabel('MSE')\n",
        "ax[0].set_ylim([min(mse_scores) - 0.01, max(mse_scores) + 0.01])\n",
        "\n",
        "# Gráfica para R^2\n",
        "ax[1].bar(model_labels, r2_scores, color=['blue', 'green', 'red'])\n",
        "ax[1].set_title('Comparación del R^2 de los Modelos')\n",
        "ax[1].set_ylabel('R^2')\n",
        "ax[1].set_ylim([min(r2_scores) - 0.05, max(r2_scores) + 0.05])\n",
        "\n",
        "# Mostrar las gráficas\n",
        "plt.tight_layout()\n",
        "plt.show()\n"
      ]
    },
    {
      "cell_type": "markdown",
      "source": [
        "La tokenización con TfidfVectorizer y la tokenización básica con CountVectorizer  tienen un rendimiento similar según el MSE, pero el modelo del Punto 4 tiene un R^2 ligeramente superior. Esto sugiere que el enfoque Tfidf podría estar proporcionando una representación ligeramente más efectiva de los datos de texto para este problema en particular, lo que resulta en una mejor explicación de la variabilidad de la respuesta por el modelo.\n",
        "\n",
        "La inclusión de trigramas  resultó en un MSE más alto y un R^2 más bajo en comparación con los otros dos modelos. Esto podría indicar que los trigramas, aunque capturan mejor el contexto en los datos, podrían estar añadiendo complejidad al modelo sin mejorar necesariamente la predicción. También es posible que estén introduciendo ruido o que el modelo sufra de sobreajuste debido a la alta dimensionalidad."
      ],
      "metadata": {
        "id": "dn7uiyfCDpMn"
      }
    }
  ],
  "metadata": {
    "kernelspec": {
      "display_name": "Python 3 (ipykernel)",
      "language": "python",
      "name": "python3"
    },
    "language_info": {
      "codemirror_mode": {
        "name": "ipython",
        "version": 3
      },
      "file_extension": ".py",
      "mimetype": "text/x-python",
      "name": "python",
      "nbconvert_exporter": "python",
      "pygments_lexer": "ipython3",
      "version": "3.9.12"
    },
    "name": "_merged",
    "colab": {
      "provenance": []
    }
  },
  "nbformat": 4,
  "nbformat_minor": 0
}